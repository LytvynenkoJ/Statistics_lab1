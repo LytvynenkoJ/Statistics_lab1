{
 "cells": [
  {
   "cell_type": "code",
   "execution_count": 1,
   "metadata": {},
   "outputs": [],
   "source": [
    "import numpy as np\n",
    "import pandas as pd\n",
    "from scipy import stats\n",
    "from scipy import integrate\n",
    "import math\n",
    "import matplotlib.pyplot as plt\n",
    "from mpl_toolkits.mplot3d.axes3d import Axes3D"
   ]
  },
  {
   "cell_type": "markdown",
   "metadata": {},
   "source": [
    "# Завдання 1"
   ]
  },
  {
   "cell_type": "code",
   "execution_count": 2,
   "metadata": {},
   "outputs": [],
   "source": [
    "gamma=0.01\n",
    "zg=2.575\n",
    "n=[100,10000,1000000]"
   ]
  },
  {
   "cell_type": "code",
   "execution_count": 3,
   "metadata": {},
   "outputs": [],
   "source": [
    "an=0\n",
    "sigman=[0,0,0]\n",
    "an2=[0,0,0]\n",
    "sigman1=[0,0,0]\n",
    "sigman2=[0,0,0]\n",
    "for i in range(1,n[2]):\n",
    "    xi=np.random.normal(0.0, 1.0)\n",
    "    an+=xi\n",
    "    if i==n[0]:\n",
    "        an2[0]=an/n[0]\n",
    "    if i==n[1]:\n",
    "        an2[1]=an/n[1]\n",
    "an2[2]=an/n[2]"
   ]
  },
  {
   "cell_type": "code",
   "execution_count": 4,
   "metadata": {},
   "outputs": [],
   "source": [
    "for i in range(1,n[2]):\n",
    "    xi=np.random.normal(0.0, 1.0)\n",
    "    an+=xi\n",
    "    if i<=n[0]:\n",
    "        sigman[0]+=(xi-an2[0])**2\n",
    "        sigman[1]+=(xi-an2[1])**2\n",
    "        sigman[2]+=(xi-an2[2])**2\n",
    "    if n[0]<i<=n[1]:\n",
    "        sigman[1]+=(xi-an2[1])**2\n",
    "        sigman[2]+=(xi-an2[2])**2\n",
    "    if n[1]<i<=n[2]:\n",
    "        sigman[2]+=(xi-an2[2])**2\n",
    "    if i==100:\n",
    "        sigman2[0]=sigman[0]/n[0]\n",
    "        sigman1[0]=sigman[0]/(n[0]-1)\n",
    "    if i==10000:\n",
    "        sigman2[1]=sigman[1]/n[1]\n",
    "        sigman1[0]=sigman[0]/(n[0]-1)\n",
    "sigman2[2]=sigman[2]/n[2]\n",
    "sigman1[2]=sigman[2]/(n[2]-1)"
   ]
  },
  {
   "cell_type": "markdown",
   "metadata": {},
   "source": [
    "# 1.A.\tДовірчий інтервал для математичного сподівання у припущенні, що спостерігаються в.в., які мають нормальний розподіл, але дисперсія невідома."
   ]
  },
  {
   "cell_type": "code",
   "execution_count": 5,
   "metadata": {},
   "outputs": [
    {
     "name": "stdout",
     "output_type": "stream",
     "text": [
      "n = 100\n",
      "     a_n = -0.13620854024180676\n",
      "     a_n in (-0.2882895766173785, 0.015872496133764957)\n",
      "     length = 0.30416207275114343\n",
      "n = 10000\n",
      "     a_n = -0.01660361066035512\n",
      "     a_n in (-0.039892509526085085, 0.00668528820537485)\n",
      "     length = 0.04657779773145994\n",
      "n = 1000000\n",
      "     a_n = -0.0021920630644140433\n",
      "     a_n in (-0.004517487356673825, 0.00013336122784573775)\n",
      "     length = 0.004650848584519562\n"
     ]
    }
   ],
   "source": [
    "a=[0,0]\n",
    "for i in range (0,3):\n",
    "    sg = stats.t(df=n[i]).ppf(1-gamma)\n",
    "    a[0]=an2[i]-sg*sigman2[i]/math.sqrt(n[i]-1)\n",
    "    a[1]=an2[i]+sg*sigman2[i]/math.sqrt(n[i]-1)\n",
    "    print(\"n = \" + str(n[i]))\n",
    "    print(\"     a_n = \" + str(an2[i]))\n",
    "    print(\"     a_n in (\" + str(a[0])+\", \"+str(a[1])+\")\")\n",
    "    print(\"     length = \" + str(abs(a[0])+abs(a[1])))"
   ]
  },
  {
   "cell_type": "markdown",
   "metadata": {},
   "source": [
    "# 1.B.\tДовірчий інтервал для математичного сподівання у припущенні, що спостерігаються в.в., розподіл яких невідомий"
   ]
  },
  {
   "cell_type": "code",
   "execution_count": 6,
   "metadata": {},
   "outputs": [
    {
     "name": "stdout",
     "output_type": "stream",
     "text": [
      "n = 100\n",
      "     a_n = -0.13620854024180676\n",
      "     a_n in (-0.3035215451666193, 0.03110446468300576)\n",
      "     length = 0.33462600984962504\n",
      "n = 10000\n",
      "     a_n = -0.01660361066035512\n",
      "     a_n in (-0.01660361066035512, -0.01660361066035512)\n",
      "     length = 0.03320722132071024\n",
      "n = 1000000\n",
      "     a_n = -0.0021920630644140433\n",
      "     a_n in (-0.004766039213380348, 0.0003819130845522608)\n",
      "     length = 0.005147952297932608\n"
     ]
    }
   ],
   "source": [
    "for i in range (0,3):\n",
    "    a[0]=an2[i]-zg*sigman1[i]/math.sqrt(n[i]-1)\n",
    "    a[1]=an2[i]+zg*sigman1[i]/math.sqrt(n[i]-1)\n",
    "    print(\"n = \" + str(n[i]))\n",
    "    print(\"     a_n = \" + str(an2[i]))\n",
    "    print(\"     a_n in (\" + str(a[0])+\", \"+str(a[1])+\")\")\n",
    "    print(\"     length = \" + str(abs(a[0])+abs(a[1])))"
   ]
  },
  {
   "cell_type": "markdown",
   "metadata": {},
   "source": [
    "# 1.C.\tПобудувати довірчий інтервал для дисперсії у припущенні, що спостерігаються в.в., які мають нормальний розподіл"
   ]
  },
  {
   "cell_type": "code",
   "execution_count": 7,
   "metadata": {},
   "outputs": [
    {
     "name": "stdout",
     "output_type": "stream",
     "text": [
      "n = 100\n",
      "     sigma_n = 0.6400372605246564\n",
      "     sigma_n in (0.4566166739075277, 0.9506318498720564)\n",
      "     length = 0.4940151759645287\n",
      "n = 10000\n",
      "     sigma_n = 1.0008821859777164\n",
      "     sigma_n in (0.9653539691514945, 1.0383155396624797)\n",
      "     length = 0.07296157051098517\n",
      "n = 1000000\n",
      "     sigma_n = 0.9996008885448721\n",
      "     sigma_n in (0.9959690582334821, 1.0032517377353467)\n",
      "     length = 0.007282679501864564\n"
     ]
    }
   ],
   "source": [
    "sig=[0,0]\n",
    "for i in range (0,3):\n",
    "    sg1 = stats.chi2(df=n[i]).ppf(gamma/2)\n",
    "    sg2 = stats.chi2(df=n[i]).ppf(1-gamma/2)\n",
    "    sig[0]=(n[i]*sigman2[i])/sg2\n",
    "    sig[1]=(n[i]*sigman2[i])/sg1\n",
    "    print(\"n = \" + str(n[i]))\n",
    "    print(\"     sigma_n = \" + str(sigman2[i]))\n",
    "    print(\"     sigma_n in (\" + str(sig[0])+\", \"+str(sig[1])+\")\")\n",
    "    print(\"     length = \" + str(abs(abs(sig[0])-abs(sig[1]))))"
   ]
  },
  {
   "cell_type": "markdown",
   "metadata": {},
   "source": [
    "# Завдання 2"
   ]
  },
  {
   "cell_type": "code",
   "execution_count": 8,
   "metadata": {},
   "outputs": [],
   "source": [
    "def find_qi_method1(m):\n",
    "    si=0\n",
    "    qi=0\n",
    "    wi=np.random.uniform(0.0, 1.0)\n",
    "    eta = 1/wi-1\n",
    "    for i in range(0,m):\n",
    "        wi=np.random.uniform(0.0, 1.0)\n",
    "        xi=-np.log(wi)\n",
    "        si+=xi\n",
    "    if eta>si:\n",
    "        qi=1\n",
    "    return qi"
   ]
  },
  {
   "cell_type": "code",
   "execution_count": 9,
   "metadata": {},
   "outputs": [],
   "source": [
    "def find_qi_method2(m):\n",
    "    si=0\n",
    "    qi=0\n",
    "    wi=np.random.uniform(0.0, 1.0)\n",
    "    eta = 1/wi-1\n",
    "    for i in range(1,m+1):\n",
    "        wi=np.random.uniform(0.0, 1.0)\n",
    "        xi=-np.log(wi)\n",
    "        si+=xi\n",
    "    qi=1/(1+si)\n",
    "    return qi"
   ]
  },
  {
   "cell_type": "code",
   "execution_count": 10,
   "metadata": {},
   "outputs": [],
   "source": [
    "def find_qi_method3(m):\n",
    "    si=0\n",
    "    qi=0\n",
    "    wi=np.random.uniform(0.0, 1.0)\n",
    "    eta = 1/wi-1\n",
    "    for i in range(0,m):\n",
    "        si+=(eta**i)/(math.factorial(i)*(math.exp(eta)))\n",
    "    qi=1-si\n",
    "    return qi"
   ]
  },
  {
   "cell_type": "code",
   "execution_count": 11,
   "metadata": {},
   "outputs": [],
   "source": [
    "def find_qi_method4(m):\n",
    "    si=0\n",
    "    qi=0\n",
    "    wi=np.random.uniform(0.0, 1.0)\n",
    "    eta = 1/wi-1\n",
    "    for i in range(1,m):\n",
    "        wi=np.random.uniform(0.0, 1.0)\n",
    "        xi=-np.log(wi)\n",
    "        si+=xi\n",
    "    qi=si/((m-1)(1+si))\n",
    "    return qi"
   ]
  },
  {
   "cell_type": "code",
   "execution_count": 12,
   "metadata": {},
   "outputs": [],
   "source": [
    "def alg(m,meth):\n",
    "    n0=1\n",
    "    sigma0=0\n",
    "    n=1000000\n",
    "    stopper=0\n",
    "    si=0\n",
    "    while n<1000100 and stopper==0:\n",
    "        si=0\n",
    "        si2=0\n",
    "        start_time = datetime.now()\n",
    "        for i in range(0,n):\n",
    "            if meth==1:\n",
    "                qi = find_qi_method1(m)\n",
    "            if meth==2:\n",
    "                qi = find_qi_method2(m)\n",
    "            if meth==3:\n",
    "                qi = find_qi_method3(m)\n",
    "            if meth==4 and m!=1:\n",
    "                qi = find_qi_method4(m)\n",
    "            si+=qi\n",
    "            si2+=qi*qi\n",
    "            #print(\"qi = \"+str(qi)+ \"     sum = \"+str(si))\n",
    "        print(datetime.now() - start_time)\n",
    "        Qin=si/n\n",
    "        Sigma=(si/(n-1))+(Qin*Qin*n)/(n-1)\n",
    "        print(\"Qi = \" + str(Qin) + \"     Sigma = \" + str(Sigma))\n",
    "        print(\"criteria:     abs(Sigma-sigma0) = \"+ str(abs(Sigma-sigma0)))\n",
    "        if abs(Sigma-sigma0)<=0.1:\n",
    "            x=n+1\n",
    "            if Qin!=0:\n",
    "                x=(66306.25*Sigma)/(Qin**2)\n",
    "            #else:\n",
    "                #stopper=1\n",
    "            print(\"criteria2:     x = \"+ str(x) + \"     n = \" + str(n))\n",
    "            if n>=x:\n",
    "                stopper=1\n",
    "            else:\n",
    "                n=n+1\n",
    "        else:\n",
    "            n=n+1\n",
    "            sigma0=Sigma\n",
    "        print()\n",
    "    return Qin, Sigma, n"
   ]
  },
  {
   "cell_type": "code",
   "execution_count": 13,
   "metadata": {},
   "outputs": [],
   "source": [
    "m=[1,100,1000]\n",
    "n0=[30000,6000000,60000000]"
   ]
  },
  {
   "cell_type": "markdown",
   "metadata": {},
   "source": [
    "# 2.A.\tПри кожному m обчислити точне значення ймовірності Q_m"
   ]
  },
  {
   "cell_type": "code",
   "execution_count": 14,
   "metadata": {},
   "outputs": [],
   "source": [
    "def frac(x,m):\n",
    "    x2=1\n",
    "    for i in range(1,m):\n",
    "        x2*=x\n",
    "        x2/=i\n",
    "    return x2"
   ]
  },
  {
   "cell_type": "code",
   "execution_count": 15,
   "metadata": {},
   "outputs": [],
   "source": [
    "def f100(x):\n",
    "    return np.e**(-x)*frac(x,100)/(1+x)"
   ]
  },
  {
   "cell_type": "code",
   "execution_count": 16,
   "metadata": {},
   "outputs": [],
   "source": [
    "def f10(x):\n",
    "    return np.e**(-x)*frac(x,10)/(1+x)"
   ]
  },
  {
   "cell_type": "code",
   "execution_count": 17,
   "metadata": {},
   "outputs": [],
   "source": [
    "def f1(x):\n",
    "    return np.e**(-x)/(1+x)"
   ]
  },
  {
   "cell_type": "code",
   "execution_count": 18,
   "metadata": {},
   "outputs": [
    {
     "data": {
      "image/png": "[encoded data removed]",
      "text/plain": [
       "<Figure size 576x216 with 1 Axes>"
      ]
     },
     "metadata": {
      "needs_background": "light"
     },
     "output_type": "display_data"
    },
    {
     "name": "stdout",
     "output_type": "stream",
     "text": [
      "Integral = 0.009978522345681032\n"
     ]
    }
   ],
   "source": [
    "fig, ax = plt.subplots(figsize=(8, 3))\n",
    "x = np.linspace(50, 150, 10)\n",
    "ax.plot(x, f100(x), lw=2)\n",
    "ax.fill_between(x, f100(x), color='green', alpha=0.5)\n",
    "ax.set_xlabel(\" x\", fontsize=18)\n",
    "ax.set_ylabel(\" f(x)\", fontsize=18)\n",
    "plt.show()\n",
    "v, err = integrate.quad(f100, 60, 130)\n",
    "print (\"Integral = \"+str(v))"
   ]
  },
  {
   "cell_type": "code",
   "execution_count": 19,
   "metadata": {},
   "outputs": [
    {
     "data": {
      "image/png": "[encoded data removed]",
      "text/plain": [
       "<Figure size 576x216 with 1 Axes>"
      ]
     },
     "metadata": {
      "needs_background": "light"
     },
     "output_type": "display_data"
    },
    {
     "name": "stdout",
     "output_type": "stream",
     "text": [
      "Integral = 0.09870754523350572\n"
     ]
    }
   ],
   "source": [
    "fig, ax = plt.subplots(figsize=(8, 3))\n",
    "x = np.linspace(0, 20, 10)\n",
    "ax.plot(x, f10(x), lw=2)\n",
    "ax.fill_between(x, f10(x), color='green', alpha=0.5)\n",
    "ax.set_xlabel(\" x\", fontsize=18)\n",
    "ax.set_ylabel(\" f(x)\", fontsize=18)\n",
    "plt.show()\n",
    "v, err = integrate.quad(f10, 0, 20)\n",
    "print (\"Integral = \"+str(v))"
   ]
  },
  {
   "cell_type": "code",
   "execution_count": 20,
   "metadata": {},
   "outputs": [
    {
     "data": {
      "image/png": "[encoded data removed]",
      "text/plain": [
       "<Figure size 576x216 with 1 Axes>"
      ]
     },
     "metadata": {
      "needs_background": "light"
     },
     "output_type": "display_data"
    },
    {
     "name": "stdout",
     "output_type": "stream",
     "text": [
      "Integral = 0.5963435559123227\n"
     ]
    }
   ],
   "source": [
    "fig, ax = plt.subplots(figsize=(8, 3))\n",
    "x = np.linspace(0, 5, 10)\n",
    "ax.plot(x, f1(x), lw=2)\n",
    "ax.fill_between(x, f1(x), color='green', alpha=0.5)\n",
    "ax.set_xlabel(\" x\", fontsize=18)\n",
    "ax.set_ylabel(\" f(x)\", fontsize=18)\n",
    "plt.show()\n",
    "v, err = integrate.quad(f1, 0, 10)\n",
    "print (\"Integral = \"+str(v))"
   ]
  },
  {
   "cell_type": "markdown",
   "metadata": {},
   "source": [
    "# 2.B-E. Збірна таблиця для різних методів та різних m"
   ]
  },
  {
   "cell_type": "code",
   "execution_count": 21,
   "metadata": {},
   "outputs": [],
   "source": [
    "data_array = pd.read_csv('res.csv',delimiter=';')"
   ]
  },
  {
   "cell_type": "code",
   "execution_count": 22,
   "metadata": {},
   "outputs": [
    {
     "data": {
      "text/html": [
       "<div>\n",
       "<style scoped>\n",
       "    .dataframe tbody tr th:only-of-type {\n",
       "        vertical-align: middle;\n",
       "    }\n",
       "\n",
       "    .dataframe tbody tr th {\n",
       "        vertical-align: top;\n",
       "    }\n",
       "\n",
       "    .dataframe thead th {\n",
       "        text-align: right;\n",
       "    }\n",
       "</style>\n",
       "<table border=\"1\" class=\"dataframe\">\n",
       "  <thead>\n",
       "    <tr style=\"text-align: right;\">\n",
       "      <th></th>\n",
       "      <th>m</th>\n",
       "      <th>meth</th>\n",
       "      <th>Q</th>\n",
       "      <th>S</th>\n",
       "      <th>n</th>\n",
       "    </tr>\n",
       "  </thead>\n",
       "  <tbody>\n",
       "    <tr>\n",
       "      <th>0</th>\n",
       "      <td>1</td>\n",
       "      <td>1</td>\n",
       "      <td>0.594971</td>\n",
       "      <td>2.409860e-01</td>\n",
       "      <td>45140</td>\n",
       "    </tr>\n",
       "    <tr>\n",
       "      <th>1</th>\n",
       "      <td>1</td>\n",
       "      <td>2</td>\n",
       "      <td>0.599321</td>\n",
       "      <td>4.771240e-02</td>\n",
       "      <td>8808</td>\n",
       "    </tr>\n",
       "    <tr>\n",
       "      <th>2</th>\n",
       "      <td>1</td>\n",
       "      <td>3</td>\n",
       "      <td>0.600027</td>\n",
       "      <td>1.137500e-01</td>\n",
       "      <td>20950</td>\n",
       "    </tr>\n",
       "    <tr>\n",
       "      <th>3</th>\n",
       "      <td>10</td>\n",
       "      <td>1</td>\n",
       "      <td>0.099039</td>\n",
       "      <td>8.923040e-02</td>\n",
       "      <td>603197</td>\n",
       "    </tr>\n",
       "    <tr>\n",
       "      <th>4</th>\n",
       "      <td>10</td>\n",
       "      <td>2</td>\n",
       "      <td>0.099044</td>\n",
       "      <td>9.201970e-04</td>\n",
       "      <td>6220</td>\n",
       "    </tr>\n",
       "    <tr>\n",
       "      <th>5</th>\n",
       "      <td>10</td>\n",
       "      <td>3</td>\n",
       "      <td>0.099258</td>\n",
       "      <td>7.292440e-02</td>\n",
       "      <td>490792</td>\n",
       "    </tr>\n",
       "    <tr>\n",
       "      <th>6</th>\n",
       "      <td>10</td>\n",
       "      <td>4</td>\n",
       "      <td>0.099643</td>\n",
       "      <td>4.284080e-08</td>\n",
       "      <td>2</td>\n",
       "    </tr>\n",
       "    <tr>\n",
       "      <th>7</th>\n",
       "      <td>100</td>\n",
       "      <td>1</td>\n",
       "      <td>0.010002</td>\n",
       "      <td>9.902300e-03</td>\n",
       "      <td>6562861</td>\n",
       "    </tr>\n",
       "    <tr>\n",
       "      <th>8</th>\n",
       "      <td>100</td>\n",
       "      <td>2</td>\n",
       "      <td>0.010049</td>\n",
       "      <td>1.119690e-06</td>\n",
       "      <td>736</td>\n",
       "    </tr>\n",
       "    <tr>\n",
       "      <th>9</th>\n",
       "      <td>100</td>\n",
       "      <td>3</td>\n",
       "      <td>0.010013</td>\n",
       "      <td>9.352790e-03</td>\n",
       "      <td>6185817</td>\n",
       "    </tr>\n",
       "    <tr>\n",
       "      <th>10</th>\n",
       "      <td>100</td>\n",
       "      <td>4</td>\n",
       "      <td>0.010011</td>\n",
       "      <td>1.455190e-11</td>\n",
       "      <td>2</td>\n",
       "    </tr>\n",
       "    <tr>\n",
       "      <th>11</th>\n",
       "      <td>1000</td>\n",
       "      <td>2</td>\n",
       "      <td>0.000998</td>\n",
       "      <td>1.176750e-09</td>\n",
       "      <td>79</td>\n",
       "    </tr>\n",
       "    <tr>\n",
       "      <th>12</th>\n",
       "      <td>1000</td>\n",
       "      <td>4</td>\n",
       "      <td>0.001000</td>\n",
       "      <td>2.273740e-13</td>\n",
       "      <td>2</td>\n",
       "    </tr>\n",
       "    <tr>\n",
       "      <th>13</th>\n",
       "      <td>10000</td>\n",
       "      <td>2</td>\n",
       "      <td>0.000099</td>\n",
       "      <td>2.202680e-13</td>\n",
       "      <td>2</td>\n",
       "    </tr>\n",
       "    <tr>\n",
       "      <th>14</th>\n",
       "      <td>10000</td>\n",
       "      <td>4</td>\n",
       "      <td>0.000100</td>\n",
       "      <td>1.776360e-15</td>\n",
       "      <td>2</td>\n",
       "    </tr>\n",
       "  </tbody>\n",
       "</table>\n",
       "</div>"
      ],
      "text/plain": [
       "        m  meth         Q             S        n\n",
       "0       1     1  0.594971  2.409860e-01    45140\n",
       "1       1     2  0.599321  4.771240e-02     8808\n",
       "2       1     3  0.600027  1.137500e-01    20950\n",
       "3      10     1  0.099039  8.923040e-02   603197\n",
       "4      10     2  0.099044  9.201970e-04     6220\n",
       "5      10     3  0.099258  7.292440e-02   490792\n",
       "6      10     4  0.099643  4.284080e-08        2\n",
       "7     100     1  0.010002  9.902300e-03  6562861\n",
       "8     100     2  0.010049  1.119690e-06      736\n",
       "9     100     3  0.010013  9.352790e-03  6185817\n",
       "10    100     4  0.010011  1.455190e-11        2\n",
       "11   1000     2  0.000998  1.176750e-09       79\n",
       "12   1000     4  0.001000  2.273740e-13        2\n",
       "13  10000     2  0.000099  2.202680e-13        2\n",
       "14  10000     4  0.000100  1.776360e-15        2"
      ]
     },
     "execution_count": 22,
     "metadata": {},
     "output_type": "execute_result"
    }
   ],
   "source": [
    "data_array"
   ]
  },
  {
   "cell_type": "code",
   "execution_count": 23,
   "metadata": {},
   "outputs": [],
   "source": [
    "a0=[]\n",
    "a1=[]\n",
    "for i in range (len(data_array)):\n",
    "    a0.append(data_array[\"Q\"][i]-zg*data_array[\"S\"][i]/math.sqrt(data_array[\"n\"][i]-1))\n",
    "    a1.append(data_array[\"Q\"][i]+zg*data_array[\"S\"][i]/math.sqrt(data_array[\"n\"][i]-1))"
   ]
  },
  {
   "cell_type": "code",
   "execution_count": 24,
   "metadata": {},
   "outputs": [
    {
     "data": {
      "text/html": [
       "<div>\n",
       "<style scoped>\n",
       "    .dataframe tbody tr th:only-of-type {\n",
       "        vertical-align: middle;\n",
       "    }\n",
       "\n",
       "    .dataframe tbody tr th {\n",
       "        vertical-align: top;\n",
       "    }\n",
       "\n",
       "    .dataframe thead th {\n",
       "        text-align: right;\n",
       "    }\n",
       "</style>\n",
       "<table border=\"1\" class=\"dataframe\">\n",
       "  <thead>\n",
       "    <tr style=\"text-align: right;\">\n",
       "      <th></th>\n",
       "      <th>m</th>\n",
       "      <th>meth</th>\n",
       "      <th>Q</th>\n",
       "      <th>S</th>\n",
       "      <th>n</th>\n",
       "      <th>a_0</th>\n",
       "      <th>a_1</th>\n",
       "    </tr>\n",
       "  </thead>\n",
       "  <tbody>\n",
       "    <tr>\n",
       "      <th>0</th>\n",
       "      <td>1</td>\n",
       "      <td>1</td>\n",
       "      <td>0.594971</td>\n",
       "      <td>2.409860e-01</td>\n",
       "      <td>45140</td>\n",
       "      <td>0.592050</td>\n",
       "      <td>0.597892</td>\n",
       "    </tr>\n",
       "    <tr>\n",
       "      <th>1</th>\n",
       "      <td>1</td>\n",
       "      <td>2</td>\n",
       "      <td>0.599321</td>\n",
       "      <td>4.771240e-02</td>\n",
       "      <td>8808</td>\n",
       "      <td>0.598012</td>\n",
       "      <td>0.600630</td>\n",
       "    </tr>\n",
       "    <tr>\n",
       "      <th>2</th>\n",
       "      <td>1</td>\n",
       "      <td>3</td>\n",
       "      <td>0.600027</td>\n",
       "      <td>1.137500e-01</td>\n",
       "      <td>20950</td>\n",
       "      <td>0.598003</td>\n",
       "      <td>0.602051</td>\n",
       "    </tr>\n",
       "    <tr>\n",
       "      <th>3</th>\n",
       "      <td>10</td>\n",
       "      <td>1</td>\n",
       "      <td>0.099039</td>\n",
       "      <td>8.923040e-02</td>\n",
       "      <td>603197</td>\n",
       "      <td>0.098743</td>\n",
       "      <td>0.099335</td>\n",
       "    </tr>\n",
       "    <tr>\n",
       "      <th>4</th>\n",
       "      <td>10</td>\n",
       "      <td>2</td>\n",
       "      <td>0.099044</td>\n",
       "      <td>9.201970e-04</td>\n",
       "      <td>6220</td>\n",
       "      <td>0.099014</td>\n",
       "      <td>0.099074</td>\n",
       "    </tr>\n",
       "    <tr>\n",
       "      <th>5</th>\n",
       "      <td>10</td>\n",
       "      <td>3</td>\n",
       "      <td>0.099258</td>\n",
       "      <td>7.292440e-02</td>\n",
       "      <td>490792</td>\n",
       "      <td>0.098990</td>\n",
       "      <td>0.099526</td>\n",
       "    </tr>\n",
       "    <tr>\n",
       "      <th>6</th>\n",
       "      <td>10</td>\n",
       "      <td>4</td>\n",
       "      <td>0.099643</td>\n",
       "      <td>4.284080e-08</td>\n",
       "      <td>2</td>\n",
       "      <td>0.099643</td>\n",
       "      <td>0.099643</td>\n",
       "    </tr>\n",
       "    <tr>\n",
       "      <th>7</th>\n",
       "      <td>100</td>\n",
       "      <td>1</td>\n",
       "      <td>0.010002</td>\n",
       "      <td>9.902300e-03</td>\n",
       "      <td>6562861</td>\n",
       "      <td>0.009992</td>\n",
       "      <td>0.010012</td>\n",
       "    </tr>\n",
       "    <tr>\n",
       "      <th>8</th>\n",
       "      <td>100</td>\n",
       "      <td>2</td>\n",
       "      <td>0.010049</td>\n",
       "      <td>1.119690e-06</td>\n",
       "      <td>736</td>\n",
       "      <td>0.010049</td>\n",
       "      <td>0.010049</td>\n",
       "    </tr>\n",
       "    <tr>\n",
       "      <th>9</th>\n",
       "      <td>100</td>\n",
       "      <td>3</td>\n",
       "      <td>0.010013</td>\n",
       "      <td>9.352790e-03</td>\n",
       "      <td>6185817</td>\n",
       "      <td>0.010003</td>\n",
       "      <td>0.010022</td>\n",
       "    </tr>\n",
       "    <tr>\n",
       "      <th>10</th>\n",
       "      <td>100</td>\n",
       "      <td>4</td>\n",
       "      <td>0.010011</td>\n",
       "      <td>1.455190e-11</td>\n",
       "      <td>2</td>\n",
       "      <td>0.010010</td>\n",
       "      <td>0.010011</td>\n",
       "    </tr>\n",
       "    <tr>\n",
       "      <th>11</th>\n",
       "      <td>1000</td>\n",
       "      <td>2</td>\n",
       "      <td>0.000998</td>\n",
       "      <td>1.176750e-09</td>\n",
       "      <td>79</td>\n",
       "      <td>0.000998</td>\n",
       "      <td>0.000998</td>\n",
       "    </tr>\n",
       "    <tr>\n",
       "      <th>12</th>\n",
       "      <td>1000</td>\n",
       "      <td>4</td>\n",
       "      <td>0.001000</td>\n",
       "      <td>2.273740e-13</td>\n",
       "      <td>2</td>\n",
       "      <td>0.001000</td>\n",
       "      <td>0.001000</td>\n",
       "    </tr>\n",
       "    <tr>\n",
       "      <th>13</th>\n",
       "      <td>10000</td>\n",
       "      <td>2</td>\n",
       "      <td>0.000099</td>\n",
       "      <td>2.202680e-13</td>\n",
       "      <td>2</td>\n",
       "      <td>0.000099</td>\n",
       "      <td>0.000099</td>\n",
       "    </tr>\n",
       "    <tr>\n",
       "      <th>14</th>\n",
       "      <td>10000</td>\n",
       "      <td>4</td>\n",
       "      <td>0.000100</td>\n",
       "      <td>1.776360e-15</td>\n",
       "      <td>2</td>\n",
       "      <td>0.000100</td>\n",
       "      <td>0.000100</td>\n",
       "    </tr>\n",
       "  </tbody>\n",
       "</table>\n",
       "</div>"
      ],
      "text/plain": [
       "        m  meth         Q             S        n       a_0       a_1\n",
       "0       1     1  0.594971  2.409860e-01    45140  0.592050  0.597892\n",
       "1       1     2  0.599321  4.771240e-02     8808  0.598012  0.600630\n",
       "2       1     3  0.600027  1.137500e-01    20950  0.598003  0.602051\n",
       "3      10     1  0.099039  8.923040e-02   603197  0.098743  0.099335\n",
       "4      10     2  0.099044  9.201970e-04     6220  0.099014  0.099074\n",
       "5      10     3  0.099258  7.292440e-02   490792  0.098990  0.099526\n",
       "6      10     4  0.099643  4.284080e-08        2  0.099643  0.099643\n",
       "7     100     1  0.010002  9.902300e-03  6562861  0.009992  0.010012\n",
       "8     100     2  0.010049  1.119690e-06      736  0.010049  0.010049\n",
       "9     100     3  0.010013  9.352790e-03  6185817  0.010003  0.010022\n",
       "10    100     4  0.010011  1.455190e-11        2  0.010010  0.010011\n",
       "11   1000     2  0.000998  1.176750e-09       79  0.000998  0.000998\n",
       "12   1000     4  0.001000  2.273740e-13        2  0.001000  0.001000\n",
       "13  10000     2  0.000099  2.202680e-13        2  0.000099  0.000099\n",
       "14  10000     4  0.000100  1.776360e-15        2  0.000100  0.000100"
      ]
     },
     "execution_count": 24,
     "metadata": {},
     "output_type": "execute_result"
    }
   ],
   "source": [
    "data_array[\"a_0\"]=a0\n",
    "data_array[\"a_1\"]=a1\n",
    "data_array"
   ]
  },
  {
   "cell_type": "code",
   "execution_count": null,
   "metadata": {},
   "outputs": [],
   "source": []
  }
 ],
 "metadata": {
  "kernelspec": {
   "display_name": "Python 3",
   "language": "python",
   "name": "python3"
  },
  "language_info": {
   "codemirror_mode": {
    "name": "ipython",
    "version": 3
   },
   "file_extension": ".py",
   "mimetype": "text/x-python",
   "name": "python",
   "nbconvert_exporter": "python",
   "pygments_lexer": "ipython3",
   "version": "3.8.3"
  }
 },
 "nbformat": 4,
 "nbformat_minor": 4
}
